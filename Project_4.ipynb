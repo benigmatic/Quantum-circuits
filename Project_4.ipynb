{
  "cells": [
    {
      "cell_type": "markdown",
      "metadata": {
        "id": "view-in-github",
        "colab_type": "text"
      },
      "source": [
        "<a href=\"https://colab.research.google.com/github/benigmatic/Quantum-circuits/blob/main/Project_4.ipynb\" target=\"_parent\"><img src=\"https://colab.research.google.com/assets/colab-badge.svg\" alt=\"Open In Colab\"/></a>"
      ]
    },
    {
      "cell_type": "code",
      "execution_count": null,
      "id": "1f9c62e8",
      "metadata": {
        "id": "1f9c62e8"
      },
      "outputs": [],
      "source": [
        "# 1. Deutsch's problem"
      ]
    },
    {
      "cell_type": "code",
      "execution_count": null,
      "id": "27710f72",
      "metadata": {
        "id": "27710f72"
      },
      "outputs": [],
      "source": [
        "from qiskit import QuantumCircuit, QuantumRegister, ClassicalRegister, execute, Aer, IBMQ, BasicAer\n",
        "from qiskit.visualization import plot_bloch_multivector,plot_bloch_vector, plot_histogram\n",
        "from qiskit.quantum_info import Statevector\n",
        "import numpy as np \n",
        "import matplotlib\n",
        "from qiskit.quantum_info import partial_trace, Statevector"
      ]
    },
    {
      "cell_type": "code",
      "execution_count": null,
      "id": "a37df083",
      "metadata": {
        "id": "a37df083"
      },
      "outputs": [],
      "source": [
        "# Settin gup a simulator\n",
        "backend = BasicAer.get_backend('qasm_simulator')\n",
        "shots = 1024\n"
      ]
    },
    {
      "cell_type": "code",
      "execution_count": null,
      "id": "b9bbe035",
      "metadata": {
        "id": "b9bbe035"
      },
      "outputs": [],
      "source": [
        "# Creating a circuit\n",
        "qreg1 = QuantumRegister(2) # The quantum register of the qubits, in this case 2 qubits\n",
        "register1 = ClassicalRegister(1) \n",
        "\n",
        "qc = QuantumCircuit(qreg1, register1)\n"
      ]
    },
    {
      "cell_type": "code",
      "execution_count": null,
      "id": "693b0935",
      "metadata": {
        "id": "693b0935",
        "outputId": "c3766e31-c8bb-4e38-c969-6b99e6c84aac"
      },
      "outputs": [
        {
          "data": {
            "image/png": "[encoded data removed]",
            "text/plain": [
              "<Figure size 219.833x204.68 with 1 Axes>"
            ]
          },
          "execution_count": 5,
          "metadata": {},
          "output_type": "execute_result"
        }
      ],
      "source": [
        "#State 0\n",
        "qc.x(1)\n",
        "qc.barrier()\n",
        "qc.draw(output='mpl') "
      ]
    },
    {
      "cell_type": "code",
      "execution_count": null,
      "id": "fc9b2c4c",
      "metadata": {
        "id": "fc9b2c4c",
        "outputId": "76525689-1b46-4520-faf0-21dab286ba13"
      },
      "outputs": [
        {
          "name": "stdout",
          "output_type": "stream",
          "text": [
            "Statevector([0.+0.j, 0.+0.j, 1.+0.j, 0.+0.j],\n",
            "            dims=(2, 2))\n"
          ]
        }
      ],
      "source": [
        "full_statevector = Statevector(qc)\n",
        "print(full_statevector)"
      ]
    },
    {
      "cell_type": "code",
      "execution_count": null,
      "id": "14f08a5b",
      "metadata": {
        "id": "14f08a5b",
        "outputId": "6ff3357c-f809-418f-a009-2a438d85567a"
      },
      "outputs": [
        {
          "data": {
            "text/plain": [
              "'\\nThe initial state is |00> |00> . We apply  x gate so that the input would be transformed into |00> |10>\\n\\n'"
            ]
          },
          "execution_count": 7,
          "metadata": {},
          "output_type": "execute_result"
        }
      ],
      "source": [
        "\"\"\"\n",
        "The initial state is |00> |00> . We apply  x gate so that the input would be transformed into |00> |10>\n",
        "\n",
        "\"\"\""
      ]
    },
    {
      "cell_type": "code",
      "execution_count": null,
      "id": "0c04d053",
      "metadata": {
        "id": "0c04d053"
      },
      "outputs": [],
      "source": [
        "# This statevoctor shows the qubit 1 being set to 0, and qubit 1 set to one as expected at the state 0"
      ]
    },
    {
      "cell_type": "code",
      "execution_count": null,
      "id": "50e4835e",
      "metadata": {
        "id": "50e4835e",
        "outputId": "836a7f54-0927-4ecc-c60a-a45ea595b8f7"
      },
      "outputs": [
        {
          "data": {
            "image/png": "[encoded data removed]",
            "text/plain": [
              "<Figure size 340.233x204.68 with 1 Axes>"
            ]
          },
          "execution_count": 9,
          "metadata": {},
          "output_type": "execute_result"
        }
      ],
      "source": [
        "# State 1\n",
        "qc.h(0)\n",
        "qc.h(1)\n",
        "qc.barrier()\n",
        "qc.draw(output='mpl') "
      ]
    },
    {
      "cell_type": "code",
      "execution_count": null,
      "id": "dc552158",
      "metadata": {
        "id": "dc552158",
        "outputId": "e6c19359-57dc-4fe0-a483-9130337ff0bf"
      },
      "outputs": [
        {
          "name": "stdout",
          "output_type": "stream",
          "text": [
            "Statevector([ 0.5+0.j,  0.5+0.j, -0.5+0.j, -0.5+0.j],\n",
            "            dims=(2, 2))\n"
          ]
        }
      ],
      "source": [
        "full_statevector = Statevector(qc)\n",
        "print(full_statevector)"
      ]
    },
    {
      "cell_type": "code",
      "execution_count": null,
      "id": "25c9aec0",
      "metadata": {
        "id": "25c9aec0",
        "outputId": "8ac6c512-99c2-47b6-8c71-8c2b5a102fc7"
      },
      "outputs": [
        {
          "data": {
            "text/plain": [
              "'\\nHadamard gate was applied to both of the qubit transforming |0>|1>.\\nThe output is: 1/(square root of 2) *(|00> - |01> + |01> - |11>) or (|0> - |1>)/(square root of 2)\\n'"
            ]
          },
          "execution_count": 11,
          "metadata": {},
          "output_type": "execute_result"
        }
      ],
      "source": [
        "\"\"\"\n",
        "Hadamard gate was applied to both of the qubit transforming |0>|1>.\n",
        "The output is: 1/(square root of 2) *(|00> - |01> + |01> - |11>) or (|0> - |1>)/(square root of 2)\n",
        "\"\"\""
      ]
    },
    {
      "cell_type": "code",
      "execution_count": null,
      "id": "0e3befc3",
      "metadata": {
        "id": "0e3befc3",
        "outputId": "d5816f82-a388-4d9b-d65c-de8f1388a827"
      },
      "outputs": [
        {
          "data": {
            "image/png": "[encoded data removed]",
            "text/plain": [
              "<Figure size 460.633x204.68 with 1 Axes>"
            ]
          },
          "execution_count": 12,
          "metadata": {},
          "output_type": "execute_result"
        }
      ],
      "source": [
        "#We can implement the CNOT gate as a balanced oracle\n",
        "# State 2\n",
        "qc.cx(0,1)\n",
        "qc.barrier()\n",
        "qc.draw(output='mpl')"
      ]
    },
    {
      "cell_type": "code",
      "execution_count": null,
      "id": "d2f594f3",
      "metadata": {
        "id": "d2f594f3",
        "outputId": "492b1645-c346-48e6-83aa-26ee6636e44b"
      },
      "outputs": [
        {
          "name": "stdout",
          "output_type": "stream",
          "text": [
            "Statevector([ 0.5+0.j, -0.5+0.j, -0.5+0.j,  0.5+0.j],\n",
            "            dims=(2, 2))\n"
          ]
        }
      ],
      "source": [
        "full_statevector = Statevector(qc)\n",
        "print(full_statevector)"
      ]
    },
    {
      "cell_type": "code",
      "execution_count": null,
      "id": "6c4098bb",
      "metadata": {
        "id": "6c4098bb",
        "outputId": "c86c0130-53a0-4a22-f6c3-1239c54cf320"
      },
      "outputs": [
        {
          "data": {
            "text/plain": [
              "'\\nThe CNOT gate transformed intial state 1/(square root of 2) *(|00> - |01> + |01> - |11>)  into\\n 1/2 *(|00> - |01> + |10> - |11>)\\n'"
            ]
          },
          "execution_count": 14,
          "metadata": {},
          "output_type": "execute_result"
        }
      ],
      "source": [
        "\"\"\"\n",
        "The CNOT gate transformed intial state 1/(square root of 2) *(|00> - |01> + |01> - |11>)  into\n",
        " 1/2 *(|00> - |01> + |10> - |11>)\n",
        "\"\"\""
      ]
    },
    {
      "cell_type": "code",
      "execution_count": null,
      "id": "cab3edd8",
      "metadata": {
        "id": "cab3edd8",
        "outputId": "ba620df5-08f5-47d5-8cd3-8758a89d93ac"
      },
      "outputs": [
        {
          "data": {
            "image/png": "[encoded data removed]",
            "text/plain": [
              "<Figure size 520.833x204.68 with 1 Axes>"
            ]
          },
          "execution_count": 15,
          "metadata": {},
          "output_type": "execute_result"
        }
      ],
      "source": [
        "# state 3: apply the Hadamard gate to the first qubit\n",
        "qc.h(0)\n",
        "qc.draw(output='mpl')"
      ]
    },
    {
      "cell_type": "code",
      "execution_count": null,
      "id": "019c9a69",
      "metadata": {
        "id": "019c9a69",
        "outputId": "cf1d999f-b114-4592-a4b9-ed39b21e6e40"
      },
      "outputs": [
        {
          "name": "stdout",
          "output_type": "stream",
          "text": [
            "Statevector([ 0.        +0.j,  0.70710678+0.j,  0.        +0.j,\n",
            "             -0.70710678+0.j],\n",
            "            dims=(2, 2))\n"
          ]
        }
      ],
      "source": [
        "full_statevector = Statevector(qc)\n",
        "print(full_statevector)"
      ]
    },
    {
      "cell_type": "code",
      "execution_count": null,
      "id": "bf3bd575",
      "metadata": {
        "id": "bf3bd575",
        "outputId": "964e39b3-9bb3-42a9-d3d7-b18662f5600b"
      },
      "outputs": [
        {
          "data": {
            "image/png": "[encoded data removed]",
            "text/plain": [
              "<Figure size 581.033x204.68 with 1 Axes>"
            ]
          },
          "execution_count": 17,
          "metadata": {},
          "output_type": "execute_result"
        }
      ],
      "source": [
        "# measure the circuit. We expect the probability of measure in the first qubit to be 1.\n",
        "#This confirmes that the CNOT gate is balanced\n",
        "qc.measure(qreg1[0],register1)\n",
        "qc.draw(output='mpl') "
      ]
    },
    {
      "cell_type": "code",
      "execution_count": null,
      "id": "21f508a3",
      "metadata": {
        "id": "21f508a3",
        "outputId": "e71da358-a924-4dca-ce56-1621ab15dced"
      },
      "outputs": [
        {
          "data": {
            "image/png": "[encoded data removed]",
            "text/plain": [
              "<Figure size 504x360 with 1 Axes>"
            ]
          },
          "execution_count": 18,
          "metadata": {},
          "output_type": "execute_result"
        }
      ],
      "source": [
        "results = execute(qc, backend=backend, shots=shots).result()\n",
        "answer = results.get_counts()\n",
        "\n",
        "plot_histogram(answer)\n"
      ]
    },
    {
      "cell_type": "code",
      "execution_count": null,
      "id": "d202ae38",
      "metadata": {
        "id": "d202ae38"
      },
      "outputs": [],
      "source": [
        "# As expected, the resut produced is 1, proving that the CNOT is balanced."
      ]
    },
    {
      "cell_type": "code",
      "execution_count": null,
      "id": "29b84442",
      "metadata": {
        "id": "29b84442"
      },
      "outputs": [],
      "source": [
        "# 2. Deutsch-Jozsa problem\n",
        "from qiskit import QuantumCircuit as QC"
      ]
    },
    {
      "cell_type": "code",
      "execution_count": null,
      "id": "08cebaa3",
      "metadata": {
        "id": "08cebaa3"
      },
      "outputs": [],
      "source": [
        "# Oracle function\n",
        "def oracle(case, n):\n",
        "    ##creating an oracle\n",
        "    oracle_qc = QC(n+1)\n",
        "    if case==\"balanced\":\n",
        "        for i in range(n):\n",
        "            oracle_qc.cx(i,n)\n",
        "    if case==\"constant\":\n",
        "        pass\n",
        "    \n",
        "    ##converting circuit to a indivsual gate\n",
        "    oracle_gate = oracle_qc.to_gate()\n",
        "    oracle_gate.name = \"Oracle\"\n",
        "    \n",
        "    return oracle_gate\n",
        "        "
      ]
    },
    {
      "cell_type": "code",
      "execution_count": null,
      "id": "1346951d",
      "metadata": {
        "id": "1346951d",
        "outputId": "aa58186c-8d3d-4d86-9786-49156410058e"
      },
      "outputs": [
        {
          "name": "stdout",
          "output_type": "stream",
          "text": [
            "Statevector([0.+0.j, 0.+0.j, 0.+0.j, 0.+0.j, 0.+0.j, 0.+0.j, 0.+0.j,\n",
            "             0.+0.j, 1.+0.j, 0.+0.j, 0.+0.j, 0.+0.j, 0.+0.j, 0.+0.j,\n",
            "             0.+0.j, 0.+0.j],\n",
            "            dims=(2, 2, 2, 2))\n"
          ]
        },
        {
          "data": {
            "image/png": "[encoded data removed]",
            "text/plain": [
              "<Figure size 146.797x325.08 with 1 Axes>"
            ]
          },
          "execution_count": 22,
          "metadata": {},
          "output_type": "execute_result"
        }
      ],
      "source": [
        "#Creating a circuit\n",
        "#State 0\n",
        "n = 3\n",
        "\n",
        "dj_crc = QuantumCircuit(n+1,n)\n",
        "dj_crc.x(n)\n",
        "full_statevector = Statevector(dj_crc)\n",
        "print(full_statevector)\n",
        "dj_crc.draw('mpl')"
      ]
    },
    {
      "cell_type": "code",
      "execution_count": null,
      "id": "c652b444",
      "metadata": {
        "id": "c652b444",
        "outputId": "9160635f-b855-48d0-f7c7-822b0c500887"
      },
      "outputs": [
        {
          "name": "stdout",
          "output_type": "stream",
          "text": [
            "Statevector([ 0.25+0.j,  0.25+0.j,  0.25+0.j,  0.25+0.j,  0.25+0.j,\n",
            "              0.25+0.j,  0.25+0.j,  0.25+0.j, -0.25+0.j, -0.25+0.j,\n",
            "             -0.25+0.j, -0.25+0.j, -0.25+0.j, -0.25+0.j, -0.25+0.j,\n",
            "             -0.25+0.j],\n",
            "            dims=(2, 2, 2, 2))\n"
          ]
        },
        {
          "data": {
            "image/png": "[encoded data removed]",
            "text/plain": [
              "<Figure size 206.997x325.08 with 1 Axes>"
            ]
          },
          "execution_count": 23,
          "metadata": {},
          "output_type": "execute_result"
        }
      ],
      "source": [
        "#State 1\n",
        "for i in range(n):\n",
        "        dj_crc.h(i)\n",
        "\n",
        "dj_crc.h(n)\n",
        "full_statevector = Statevector(dj_crc)\n",
        "print(full_statevector)\n",
        "dj_crc.draw('mpl')"
      ]
    },
    {
      "cell_type": "code",
      "execution_count": null,
      "id": "59bcc581",
      "metadata": {
        "id": "59bcc581",
        "outputId": "7939418e-2668-413b-f5b4-31c84bc38826"
      },
      "outputs": [
        {
          "name": "stdout",
          "output_type": "stream",
          "text": [
            "Statevector([ 0.25+0.j, -0.25+0.j, -0.25+0.j,  0.25+0.j, -0.25+0.j,\n",
            "              0.25+0.j,  0.25+0.j, -0.25+0.j, -0.25+0.j,  0.25+0.j,\n",
            "              0.25+0.j, -0.25+0.j,  0.25+0.j, -0.25+0.j, -0.25+0.j,\n",
            "              0.25+0.j],\n",
            "            dims=(2, 2, 2, 2))\n"
          ]
        },
        {
          "data": {
            "image/png": "[encoded data removed]",
            "text/plain": [
              "<Figure size 327.397x325.08 with 1 Axes>"
            ]
          },
          "execution_count": 24,
          "metadata": {},
          "output_type": "execute_result"
        }
      ],
      "source": [
        "# State 2\n",
        "# Oracle\n",
        "rnd = np.random.randint(2)\n",
        "if rnd == 0:\n",
        "    case = \"constant\"\n",
        "else:\n",
        "    case = \"balanced\"\n",
        "dj_oracle = oracle(case, n)\n",
        "dj_crc.append(dj_oracle, range(n+1))\n",
        "full_statevector = Statevector(dj_crc)\n",
        "print(full_statevector)\n",
        "dj_crc.draw('mpl')"
      ]
    },
    {
      "cell_type": "code",
      "execution_count": null,
      "id": "723a0f65",
      "metadata": {
        "id": "723a0f65",
        "outputId": "9100afd4-b7f6-4d9c-c7e0-a9a88a5eb6a6"
      },
      "outputs": [
        {
          "name": "stdout",
          "output_type": "stream",
          "text": [
            "Statevector([ 0.        +0.j,  0.        +0.j,  0.        +0.j,\n",
            "              0.        +0.j,  0.        +0.j,  0.        +0.j,\n",
            "              0.        +0.j,  0.70710678+0.j,  0.        +0.j,\n",
            "              0.        +0.j,  0.        +0.j,  0.        +0.j,\n",
            "              0.        +0.j,  0.        +0.j,  0.        +0.j,\n",
            "             -0.70710678+0.j],\n",
            "            dims=(2, 2, 2, 2))\n"
          ]
        },
        {
          "data": {
            "image/png": "[encoded data removed]",
            "text/plain": [
              "<Figure size 387.597x325.08 with 1 Axes>"
            ]
          },
          "execution_count": 25,
          "metadata": {},
          "output_type": "execute_result"
        }
      ],
      "source": [
        "# State: 3\n",
        "for i in range(n):\n",
        "        dj_crc.h(i)\n",
        "full_statevector = Statevector(dj_crc)\n",
        "print(full_statevector)\n",
        "dj_crc.draw('mpl')"
      ]
    },
    {
      "cell_type": "code",
      "execution_count": null,
      "id": "e0fd096e",
      "metadata": {
        "id": "e0fd096e"
      },
      "outputs": [],
      "source": [
        "for i in range(n):\n",
        "        dj_crc.measure(i,i)\n"
      ]
    },
    {
      "cell_type": "code",
      "execution_count": null,
      "id": "45bb4241",
      "metadata": {
        "id": "45bb4241",
        "outputId": "652c6160-ca6a-46f0-8e38-997c7e205860"
      },
      "outputs": [
        {
          "data": {
            "image/png": "[encoded data removed]",
            "text/plain": [
              "<Figure size 504x360 with 1 Axes>"
            ]
          },
          "execution_count": 27,
          "metadata": {},
          "output_type": "execute_result"
        }
      ],
      "source": [
        "#simulating\n",
        "backend=BasicAer.get_backend('qasm_simulator')\n",
        "shots = 1024\n",
        "\n",
        "results = execute(dj_crc, backend=backend, shots=shots).result()\n",
        "answer = results.get_counts()\n",
        "\n",
        "plot_histogram(answer)\n"
      ]
    },
    {
      "cell_type": "code",
      "execution_count": null,
      "id": "adb49541",
      "metadata": {
        "id": "adb49541"
      },
      "outputs": [],
      "source": [
        "# 3. Simon's problem\n",
        "from qiskit import QuantumCircuit, assemble, Aer\n",
        "from qiskit.visualization import plot_histogram, plot_bloch_vector\n"
      ]
    },
    {
      "cell_type": "code",
      "execution_count": null,
      "id": "33c7ebc1",
      "metadata": {
        "id": "33c7ebc1",
        "outputId": "e92d9dad-e6f0-4c78-f6b9-ca054d6bab47"
      },
      "outputs": [
        {
          "name": "stdout",
          "output_type": "stream",
          "text": [
            "Statevector([1.+0.j, 0.+0.j, 0.+0.j, 0.+0.j, 0.+0.j, 0.+0.j, 0.+0.j,\n",
            "             0.+0.j, 0.+0.j, 0.+0.j, 0.+0.j, 0.+0.j, 0.+0.j, 0.+0.j,\n",
            "             0.+0.j, 0.+0.j],\n",
            "            dims=(2, 2, 2, 2))\n"
          ]
        },
        {
          "data": {
            "image/png": "[encoded data removed]",
            "text/plain": [
              "<Figure size 116.697x325.08 with 1 Axes>"
            ]
          },
          "execution_count": 29,
          "metadata": {},
          "output_type": "execute_result"
        }
      ],
      "source": [
        "# Creating a circuit\n",
        "imon = QuantumCircuit(4,2)\n",
        "# State 1\n",
        "full_statevector = Statevector(simon)\n",
        "print(full_statevector)\n",
        "simon.draw(output='mpl')"
      ]
    },
    {
      "cell_type": "code",
      "execution_count": null,
      "id": "bd9141b1",
      "metadata": {
        "id": "bd9141b1",
        "outputId": "67e24201-b1e2-4ac3-9822-2849ab203783"
      },
      "outputs": [
        {
          "name": "stdout",
          "output_type": "stream",
          "text": [
            "Statevector([0.5+0.j, 0.5+0.j, 0.5+0.j, 0.5+0.j, 0. +0.j, 0. +0.j, 0. +0.j,\n",
            "             0. +0.j, 0. +0.j, 0. +0.j, 0. +0.j, 0. +0.j, 0. +0.j, 0. +0.j,\n",
            "             0. +0.j, 0. +0.j],\n",
            "            dims=(2, 2, 2, 2))\n"
          ]
        },
        {
          "data": {
            "image/png": "[encoded data removed]",
            "text/plain": [
              "<Figure size 206.997x325.08 with 1 Axes>"
            ]
          },
          "execution_count": 30,
          "metadata": {},
          "output_type": "execute_result"
        }
      ],
      "source": [
        "#State 2\n",
        "simon.h(0)\n",
        "simon.h(1)\n",
        "simon.barrier()\n",
        "\n",
        "full_statevector = Statevector(simon)\n",
        "print(full_statevector)\n",
        "simon.draw(output='mpl')"
      ]
    },
    {
      "cell_type": "code",
      "execution_count": null,
      "id": "18c7f327",
      "metadata": {
        "id": "18c7f327",
        "outputId": "71872c59-2ebe-405f-952a-6fba3aa6ae31"
      },
      "outputs": [
        {
          "name": "stdout",
          "output_type": "stream",
          "text": [
            "Statevector([0.5+0.j, 0. +0.j, 0. +0.j, 0.5+0.j, 0. +0.j, 0. +0.j, 0. +0.j,\n",
            "             0. +0.j, 0. +0.j, 0. +0.j, 0. +0.j, 0. +0.j, 0. +0.j, 0.5+0.j,\n",
            "             0.5+0.j, 0. +0.j],\n",
            "            dims=(2, 2, 2, 2))\n"
          ]
        },
        {
          "data": {
            "image/png": "[encoded data removed]",
            "text/plain": [
              "<Figure size 447.797x325.08 with 1 Axes>"
            ]
          },
          "execution_count": 31,
          "metadata": {},
          "output_type": "execute_result"
        }
      ],
      "source": [
        "# State 3\n",
        "# Oracle\n",
        "simon.cx(0,2)\n",
        "simon.cx(0,3)\n",
        "simon.cx(1,2)\n",
        "simon.cx(1,3)\n",
        "\n",
        "full_statevector = Statevector(simon)\n",
        "print(full_statevector)\n",
        "simon.draw(output='mpl')"
      ]
    },
    {
      "cell_type": "code",
      "execution_count": null,
      "id": "60d5e47d",
      "metadata": {
        "id": "60d5e47d",
        "outputId": "45a8e9f5-723f-4f55-d14b-c05df2105a73"
      },
      "outputs": [
        {
          "name": "stdout",
          "output_type": "stream",
          "text": [
            "Statevector([0.5+0.j, 0. +0.j, 0. +0.j, 0.5+0.j, 0. +0.j, 0. +0.j, 0. +0.j,\n",
            "             0. +0.j, 0. +0.j, 0. +0.j, 0. +0.j, 0. +0.j, 0. +0.j, 0.5+0.j,\n",
            "             0.5+0.j, 0. +0.j],\n",
            "            dims=(2, 2, 2, 2))\n"
          ]
        },
        {
          "data": {
            "image/png": "[encoded data removed]",
            "text/plain": [
              "<Figure size 447.797x325.08 with 1 Axes>"
            ]
          },
          "execution_count": 32,
          "metadata": {},
          "output_type": "execute_result"
        }
      ],
      "source": [
        "# State 4\n",
        "# the measurment will be completed in the end, \n",
        "#so that it would be possible to print the statevectors for the rest of the states\n",
        "\"\"\"simon.measure(2,0)\n",
        "simon.measure(3,1)\"\"\"\n",
        "\n",
        "full_statevector = Statevector(simon)\n",
        "print(full_statevector)\n",
        "simon.draw(output='mpl')"
      ]
    },
    {
      "cell_type": "code",
      "execution_count": null,
      "id": "1967e6f4",
      "metadata": {
        "id": "1967e6f4",
        "outputId": "fe50227f-0ab4-4cf1-dfdc-0783e7ee1893"
      },
      "outputs": [
        {
          "name": "stdout",
          "output_type": "stream",
          "text": [
            "Statevector([ 0.5+0.j,  0. +0.j,  0. +0.j,  0.5+0.j,  0. +0.j,  0. +0.j,\n",
            "              0. +0.j,  0. +0.j,  0. +0.j,  0. +0.j,  0. +0.j,  0. +0.j,\n",
            "              0.5+0.j,  0. +0.j,  0. +0.j, -0.5+0.j],\n",
            "            dims=(2, 2, 2, 2))\n"
          ]
        },
        {
          "data": {
            "image/png": "[encoded data removed]",
            "text/plain": [
              "<Figure size 507.997x325.08 with 1 Axes>"
            ]
          },
          "execution_count": 33,
          "metadata": {},
          "output_type": "execute_result"
        }
      ],
      "source": [
        "# State 5\n",
        "simon.h(0)\n",
        "simon.h(1)\n",
        "\n",
        "full_statevector = Statevector(simon)\n",
        "print(full_statevector)\n",
        "simon.draw(output='mpl')"
      ]
    },
    {
      "cell_type": "code",
      "execution_count": null,
      "id": "4db852ea",
      "metadata": {
        "id": "4db852ea",
        "outputId": "40374b87-364a-4f61-a8ca-bbd2b893b164"
      },
      "outputs": [
        {
          "data": {
            "image/png": "[encoded data removed]",
            "text/plain": [
              "<Figure size 688.597x325.08 with 1 Axes>"
            ]
          },
          "execution_count": 34,
          "metadata": {},
          "output_type": "execute_result"
        }
      ],
      "source": [
        "# State 6:\n",
        "simon.measure(2,0)\n",
        "simon.measure(3,1)\n",
        "simon.measure(0,0)\n",
        "simon.measure(1,1)\n",
        "simon.draw(output='mpl')"
      ]
    },
    {
      "cell_type": "code",
      "execution_count": null,
      "id": "fd060b12",
      "metadata": {
        "id": "fd060b12",
        "outputId": "db0c39eb-8201-4f45-d7a0-b774a5cc6456"
      },
      "outputs": [
        {
          "data": {
            "image/png": "[encoded data removed]",
            "text/plain": [
              "<Figure size 504x360 with 1 Axes>"
            ]
          },
          "execution_count": 35,
          "metadata": {},
          "output_type": "execute_result"
        }
      ],
      "source": [
        "backend = BasicAer.get_backend('qasm_simulator')\n",
        "shots= 1024\n",
        "results = execute(simon, backend=backend, shots= shots).result()\n",
        "counts = results.get_counts()\n",
        "plot_histogram(counts)"
      ]
    },
    {
      "cell_type": "code",
      "execution_count": null,
      "id": "b7e9dad8",
      "metadata": {
        "id": "b7e9dad8",
        "outputId": "717fa308-3341-4b9c-c83b-97364d3ec103"
      },
      "outputs": [
        {
          "data": {
            "text/plain": [
              "'The results show that this is a two to one oracle'"
            ]
          },
          "execution_count": 36,
          "metadata": {},
          "output_type": "execute_result"
        }
      ],
      "source": [
        "\"\"\"The results show that this is a two to one oracle\"\"\""
      ]
    },
    {
      "cell_type": "code",
      "execution_count": null,
      "id": "56d8d192",
      "metadata": {
        "id": "56d8d192"
      },
      "outputs": [],
      "source": [
        "# 4. Grover's algorithm (for 2 qubits)"
      ]
    },
    {
      "cell_type": "code",
      "execution_count": null,
      "id": "2ce4a644",
      "metadata": {
        "id": "2ce4a644"
      },
      "outputs": [],
      "source": [
        "#initialization\n",
        "import matplotlib.pyplot as plt\n",
        "import numpy as np\n",
        "\n",
        "# importing Qiskit\n",
        "from qiskit import IBMQ, Aer, assemble, transpile\n",
        "from qiskit import QuantumCircuit, ClassicalRegister, QuantumRegister\n",
        "from qiskit.providers.ibmq import least_busy\n",
        "\n",
        "# import basic plot tools\n",
        "from qiskit.visualization import plot_histogram\n"
      ]
    },
    {
      "cell_type": "code",
      "execution_count": null,
      "id": "1e7e18ab",
      "metadata": {
        "id": "1e7e18ab"
      },
      "outputs": [],
      "source": [
        "n = 2\n",
        "grover_circuit = QuantumCircuit(n)"
      ]
    },
    {
      "cell_type": "code",
      "execution_count": null,
      "id": "d28506b7",
      "metadata": {
        "id": "d28506b7",
        "outputId": "93dd8f3d-ed56-4af9-f38c-cb2071af1993"
      },
      "outputs": [
        {
          "data": {
            "image/png": "[encoded data removed]",
            "text/plain": [
              "<Figure size 206.852x144.48 with 1 Axes>"
            ]
          },
          "execution_count": 40,
          "metadata": {},
          "output_type": "execute_result"
        }
      ],
      "source": [
        "#State\n",
        "grover_circuit.h(0)\n",
        "grover_circuit.h(1)\n",
        "grover_circuit.barrier()\n",
        "grover_circuit.draw(output='mpl')\n"
      ]
    },
    {
      "cell_type": "code",
      "execution_count": null,
      "id": "695c6a33",
      "metadata": {
        "id": "695c6a33",
        "outputId": "7de04681-aea1-4650-cf1c-8e37ea00fc19"
      },
      "outputs": [
        {
          "data": {
            "image/png": "[encoded data removed]",
            "text/plain": [
              "<Figure size 267.052x144.48 with 1 Axes>"
            ]
          },
          "execution_count": 41,
          "metadata": {},
          "output_type": "execute_result"
        }
      ],
      "source": [
        "grover_circuit.cz(0,1) # Oracle\n",
        "grover_circuit.draw(output='mpl')\n"
      ]
    },
    {
      "cell_type": "code",
      "execution_count": null,
      "id": "8000267a",
      "metadata": {
        "id": "8000267a",
        "outputId": "00105dce-6bd4-4cab-9b1b-84e6420d0fb5"
      },
      "outputs": [
        {
          "data": {
            "image/png": "[encoded data removed]",
            "text/plain": [
              "<Figure size 507.852x144.48 with 1 Axes>"
            ]
          },
          "execution_count": 42,
          "metadata": {},
          "output_type": "execute_result"
        }
      ],
      "source": [
        "# Diffuser (amplification)\n",
        "# Diffusion operator (U_s)\n",
        "grover_circuit.h([0,1])\n",
        "grover_circuit.z([0,1])\n",
        "grover_circuit.cz(0,1)\n",
        "grover_circuit.h([0,1])\n",
        "grover_circuit.draw(output='mpl')"
      ]
    },
    {
      "cell_type": "code",
      "execution_count": null,
      "id": "b90aff5d",
      "metadata": {
        "id": "b90aff5d",
        "outputId": "7b05b0fe-27d8-4722-e62a-1fe1e83d8c5b"
      },
      "outputs": [
        {
          "data": {
            "image/png": "[encoded data removed]",
            "text/plain": [
              "<Figure size 504x360 with 1 Axes>"
            ]
          },
          "execution_count": 43,
          "metadata": {},
          "output_type": "execute_result"
        }
      ],
      "source": [
        "grover_circuit.measure_all()\n",
        "\n",
        "aer_sim = Aer.get_backend('aer_simulator')\n",
        "qobj = assemble(grover_circuit)\n",
        "result = aer_sim.run(qobj).result()\n",
        "counts = result.get_counts()\n",
        "plot_histogram(counts)\n"
      ]
    },
    {
      "cell_type": "code",
      "execution_count": null,
      "id": "e678798d",
      "metadata": {
        "id": "e678798d"
      },
      "outputs": [],
      "source": [
        "\n"
      ]
    },
    {
      "cell_type": "code",
      "execution_count": null,
      "id": "4d3502f0",
      "metadata": {
        "id": "4d3502f0"
      },
      "outputs": [],
      "source": [
        ""
      ]
    }
  ],
  "metadata": {
    "kernelspec": {
      "display_name": "Python 3 (ipykernel)",
      "language": "python",
      "name": "python3"
    },
    "language_info": {
      "codemirror_mode": {
        "name": "ipython",
        "version": 3
      },
      "file_extension": ".py",
      "mimetype": "text/x-python",
      "name": "python",
      "nbconvert_exporter": "python",
      "pygments_lexer": "ipython3",
      "version": "3.9.7"
    },
    "colab": {
      "name": "Project 4.ipynb",
      "provenance": [],
      "include_colab_link": true
    }
  },
  "nbformat": 4,
  "nbformat_minor": 5
}