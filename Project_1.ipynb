{
  "cells": [
    {
      "cell_type": "markdown",
      "metadata": {
        "id": "view-in-github",
        "colab_type": "text"
      },
      "source": [
        "<a href=\"https://colab.research.google.com/github/benigmatic/Quantum-circuits/blob/main/Project_1.ipynb\" target=\"_parent\"><img src=\"https://colab.research.google.com/assets/colab-badge.svg\" alt=\"Open In Colab\"/></a>"
      ]
    },
    {
      "cell_type": "code",
      "execution_count": null,
      "id": "86754c57",
      "metadata": {
        "id": "86754c57"
      },
      "outputs": [],
      "source": [
        "from qiskit import *"
      ]
    },
    {
      "cell_type": "code",
      "execution_count": null,
      "id": "935d0ee5",
      "metadata": {
        "id": "935d0ee5"
      },
      "outputs": [],
      "source": [
        "qr = QuantumRegister(2)"
      ]
    },
    {
      "cell_type": "code",
      "execution_count": null,
      "id": "c48b1a6c",
      "metadata": {
        "id": "c48b1a6c"
      },
      "outputs": [],
      "source": [
        "# two classical registers to take measurements from qibits\n",
        "cr = ClassicalRegister(2)"
      ]
    },
    {
      "cell_type": "code",
      "execution_count": null,
      "id": "3b75cded",
      "metadata": {
        "id": "3b75cded"
      },
      "outputs": [],
      "source": [
        "# build a circuit\n",
        "circuit = QuantumCircuit(qr,cr)"
      ]
    },
    {
      "cell_type": "code",
      "execution_count": null,
      "id": "0747f412",
      "metadata": {
        "id": "0747f412"
      },
      "outputs": [],
      "source": [
        "# build a circuit\n",
        "circuit = QuantumCircuit(qr,cr)"
      ]
    },
    {
      "cell_type": "code",
      "execution_count": null,
      "id": "e1d0046c",
      "metadata": {
        "id": "e1d0046c",
        "outputId": "656cf7f4-7c70-46b2-8cd2-9fc2813c90dc"
      },
      "outputs": [
        {
          "data": {
            "image/png": "[encoded data removed]",
            "text/plain": [
              "<Figure size 129.533x204.68 with 1 Axes>"
            ]
          },
          "execution_count": 6,
          "metadata": {},
          "output_type": "execute_result"
        }
      ],
      "source": [
        "circuit.draw(output=\"mpl\")"
      ]
    },
    {
      "cell_type": "code",
      "execution_count": null,
      "id": "efbf43f3",
      "metadata": {
        "id": "efbf43f3",
        "outputId": "10c18213-c899-4ddd-8817-c35cdefa6593"
      },
      "outputs": [
        {
          "data": {
            "text/plain": [
              "<qiskit.circuit.instructionset.InstructionSet at 0x2308a268780>"
            ]
          },
          "execution_count": 7,
          "metadata": {},
          "output_type": "execute_result"
        }
      ],
      "source": [
        "#Hadamrad gate\n",
        "circuit.h(qr[0])\n",
        "circuit.h(qr[1])"
      ]
    },
    {
      "cell_type": "code",
      "execution_count": null,
      "id": "fa9ce6c8",
      "metadata": {
        "id": "fa9ce6c8",
        "outputId": "4c523cc2-3bc1-4ea5-f963-10a9d9d20280"
      },
      "outputs": [
        {
          "data": {
            "image/png": "[encoded data removed]",
            "text/plain": [
              "<Figure size 159.633x204.68 with 1 Axes>"
            ]
          },
          "execution_count": 8,
          "metadata": {},
          "output_type": "execute_result"
        }
      ],
      "source": [
        "circuit.draw(output=\"mpl\")"
      ]
    },
    {
      "cell_type": "code",
      "execution_count": null,
      "id": "c1895910",
      "metadata": {
        "id": "c1895910",
        "outputId": "449634ad-81f4-4d07-c305-8177f92ef30f"
      },
      "outputs": [
        {
          "data": {
            "image/png": "[encoded data removed]",
            "text/plain": [
              "<Figure size 219.833x204.68 with 1 Axes>"
            ]
          },
          "execution_count": 9,
          "metadata": {},
          "output_type": "execute_result"
        }
      ],
      "source": [
        "circuit.cx(qr[0], qr[1])\n",
        "circuit.draw(output=\"mpl\")"
      ]
    },
    {
      "cell_type": "code",
      "execution_count": null,
      "id": "2a4ac6fc",
      "metadata": {
        "id": "2a4ac6fc",
        "outputId": "342d4052-9764-4ebb-91dc-d6993bf7c40b"
      },
      "outputs": [
        {
          "data": {
            "text/plain": [
              "<qiskit.circuit.instructionset.InstructionSet at 0x2308a422600>"
            ]
          },
          "execution_count": 10,
          "metadata": {},
          "output_type": "execute_result"
        }
      ],
      "source": [
        "# Add two more Hadamrad gates\n",
        "circuit.h(qr[0])\n",
        "circuit.h(qr[1])"
      ]
    },
    {
      "cell_type": "code",
      "execution_count": null,
      "id": "702e1f5b",
      "metadata": {
        "id": "702e1f5b",
        "outputId": "b83c776f-bc75-44a2-d981-db4a60166e40"
      },
      "outputs": [
        {
          "data": {
            "image/png": "[encoded data removed]",
            "text/plain": [
              "<Figure size 280.033x204.68 with 1 Axes>"
            ]
          },
          "execution_count": 11,
          "metadata": {},
          "output_type": "execute_result"
        }
      ],
      "source": [
        "circuit.draw(output=\"mpl\")\n",
        "circuit.measure(qr,cr)"
      ]
    },
    {
      "cell_type": "code",
      "execution_count": null,
      "id": "8af487af",
      "metadata": {
        "id": "8af487af"
      },
      "outputs": [],
      "source": [
        "#Run on classical computer(simulation)\n",
        "simulator = Aer.get_backend('qasm_simulator')"
      ]
    },
    {
      "cell_type": "code",
      "execution_count": null,
      "id": "b9dfaedd",
      "metadata": {
        "id": "b9dfaedd"
      },
      "outputs": [],
      "source": [
        "\n",
        "\n"
      ]
    },
    {
      "cell_type": "code",
      "execution_count": null,
      "id": "c731fcdc",
      "metadata": {
        "id": "c731fcdc"
      },
      "outputs": [],
      "source": [
        "from qiskit.tools.visualization import plot_histogram"
      ]
    },
    {
      "cell_type": "code",
      "execution_count": null,
      "id": "0788ac95",
      "metadata": {
        "id": "0788ac95",
        "outputId": "4c5ba4ca-04d9-4eeb-f960-a79fa7fe943e"
      },
      "outputs": [
        {
          "data": {
            "image/png": "[encoded data removed]",
            "text/plain": [
              "<Figure size 504x360 with 1 Axes>"
            ]
          },
          "execution_count": 15,
          "metadata": {},
          "output_type": "execute_result"
        }
      ],
      "source": [
        " #Execute the circuit (simulation)\n",
        "result = execute(circuit, backend=simulator).result()\n",
        "plot_histogram(result.get_counts(circuit))"
      ]
    },
    {
      "cell_type": "code",
      "execution_count": null,
      "id": "7b024f92",
      "metadata": {
        "id": "7b024f92",
        "outputId": "e9669805-b6ff-4f2e-e95c-39dfc0f61107"
      },
      "outputs": [
        {
          "data": {
            "text/plain": [
              "<AccountProvider for IBMQ(hub='ibm-q', group='open', project='main')>"
            ]
          },
          "execution_count": 16,
          "metadata": {},
          "output_type": "execute_result"
        }
      ],
      "source": [
        "IBMQ.load_account()"
      ]
    },
    {
      "cell_type": "code",
      "execution_count": null,
      "id": "4b5b7452",
      "metadata": {
        "id": "4b5b7452"
      },
      "outputs": [],
      "source": [
        "provider = IBMQ.get_provider('ibm-q')"
      ]
    },
    {
      "cell_type": "code",
      "execution_count": null,
      "id": "2f527269",
      "metadata": {
        "id": "2f527269"
      },
      "outputs": [],
      "source": [
        "qcomp = provider.get_backend('ibmq_quito')"
      ]
    },
    {
      "cell_type": "code",
      "execution_count": null,
      "id": "5f5a8387",
      "metadata": {
        "id": "5f5a8387"
      },
      "outputs": [],
      "source": [
        "job = execute(circuit, backend=qcomp)"
      ]
    },
    {
      "cell_type": "code",
      "execution_count": null,
      "id": "4bc46b82",
      "metadata": {
        "id": "4bc46b82"
      },
      "outputs": [],
      "source": [
        "from qiskit.tools.monitor import job_monitor\n"
      ]
    },
    {
      "cell_type": "code",
      "execution_count": null,
      "id": "9643d1b2",
      "metadata": {
        "id": "9643d1b2",
        "outputId": "505735ed-3abb-41b6-ed86-2ab4cb6882fd"
      },
      "outputs": [
        {
          "name": "stdout",
          "output_type": "stream",
          "text": [
            "Job Status: job has successfully run\n"
          ]
        }
      ],
      "source": [
        "job_monitor(job)"
      ]
    },
    {
      "cell_type": "code",
      "execution_count": null,
      "id": "fe569123",
      "metadata": {
        "id": "fe569123"
      },
      "outputs": [],
      "source": [
        "result = job.result()"
      ]
    },
    {
      "cell_type": "code",
      "execution_count": null,
      "id": "55348040",
      "metadata": {
        "id": "55348040"
      },
      "outputs": [],
      "source": [
        ""
      ]
    }
  ],
  "metadata": {
    "kernelspec": {
      "display_name": "Python 3 (ipykernel)",
      "language": "python",
      "name": "python3"
    },
    "language_info": {
      "codemirror_mode": {
        "name": "ipython",
        "version": 3
      },
      "file_extension": ".py",
      "mimetype": "text/x-python",
      "name": "python",
      "nbconvert_exporter": "python",
      "pygments_lexer": "ipython3",
      "version": "3.9.7"
    },
    "colab": {
      "name": "Project-1.ipynb",
      "provenance": [],
      "include_colab_link": true
    }
  },
  "nbformat": 4,
  "nbformat_minor": 5
}